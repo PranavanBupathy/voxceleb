{
 "cells": [
  {
   "cell_type": "code",
   "execution_count": 1,
   "id": "3d3b6bbe",
   "metadata": {},
   "outputs": [
    {
     "name": "stderr",
     "output_type": "stream",
     "text": [
      "/home/ubuntu/environments/transcript/lib/python3.8/site-packages/tqdm/auto.py:21: TqdmWarning: IProgress not found. Please update jupyter and ipywidgets. See https://ipywidgets.readthedocs.io/en/stable/user_install.html\n",
      "  from .autonotebook import tqdm as notebook_tqdm\n"
     ]
    }
   ],
   "source": [
    "import pandas as pd\n",
    "import whisper\n",
    "import datetime\n",
    "import subprocess\n",
    "import torch\n",
    "import wave\n",
    "import numpy as np"
   ]
  },
  {
   "cell_type": "code",
   "execution_count": 2,
   "id": "f4b0f6f6",
   "metadata": {},
   "outputs": [
    {
     "data": {
      "text/html": [
       "<div>\n",
       "<style scoped>\n",
       "    .dataframe tbody tr th:only-of-type {\n",
       "        vertical-align: middle;\n",
       "    }\n",
       "\n",
       "    .dataframe tbody tr th {\n",
       "        vertical-align: top;\n",
       "    }\n",
       "\n",
       "    .dataframe thead th {\n",
       "        text-align: right;\n",
       "    }\n",
       "</style>\n",
       "<table border=\"1\" class=\"dataframe\">\n",
       "  <thead>\n",
       "    <tr style=\"text-align: right;\">\n",
       "      <th></th>\n",
       "      <th>VoxCeleb1 ID</th>\n",
       "      <th>VGGFace1 ID</th>\n",
       "      <th>Gender</th>\n",
       "      <th>Nationality</th>\n",
       "      <th>Set</th>\n",
       "    </tr>\n",
       "  </thead>\n",
       "  <tbody>\n",
       "    <tr>\n",
       "      <th>0</th>\n",
       "      <td>id10001</td>\n",
       "      <td>A.J._Buckley</td>\n",
       "      <td>m</td>\n",
       "      <td>Ireland</td>\n",
       "      <td>dev</td>\n",
       "    </tr>\n",
       "    <tr>\n",
       "      <th>1</th>\n",
       "      <td>id10002</td>\n",
       "      <td>A.R._Rahman</td>\n",
       "      <td>m</td>\n",
       "      <td>India</td>\n",
       "      <td>dev</td>\n",
       "    </tr>\n",
       "    <tr>\n",
       "      <th>2</th>\n",
       "      <td>id10003</td>\n",
       "      <td>Aamir_Khan</td>\n",
       "      <td>m</td>\n",
       "      <td>India</td>\n",
       "      <td>dev</td>\n",
       "    </tr>\n",
       "    <tr>\n",
       "      <th>3</th>\n",
       "      <td>id10004</td>\n",
       "      <td>Aaron_Tveit</td>\n",
       "      <td>m</td>\n",
       "      <td>USA</td>\n",
       "      <td>dev</td>\n",
       "    </tr>\n",
       "    <tr>\n",
       "      <th>4</th>\n",
       "      <td>id10005</td>\n",
       "      <td>Aaron_Yoo</td>\n",
       "      <td>m</td>\n",
       "      <td>USA</td>\n",
       "      <td>dev</td>\n",
       "    </tr>\n",
       "  </tbody>\n",
       "</table>\n",
       "</div>"
      ],
      "text/plain": [
       "  VoxCeleb1 ID   VGGFace1 ID Gender Nationality  Set\n",
       "0      id10001  A.J._Buckley      m     Ireland  dev\n",
       "1      id10002   A.R._Rahman      m       India  dev\n",
       "2      id10003    Aamir_Khan      m       India  dev\n",
       "3      id10004   Aaron_Tveit      m         USA  dev\n",
       "4      id10005     Aaron_Yoo      m         USA  dev"
      ]
     },
     "execution_count": 2,
     "metadata": {},
     "output_type": "execute_result"
    }
   ],
   "source": [
    "df = pd.read_csv(\"/home/ubuntu/voxceleb/vox1_meta.csv\", delimiter=\"\\t\")\n",
    "df.head()"
   ]
  },
  {
   "cell_type": "code",
   "execution_count": 3,
   "id": "ec43ef77",
   "metadata": {},
   "outputs": [
    {
     "data": {
      "text/html": [
       "<div>\n",
       "<style scoped>\n",
       "    .dataframe tbody tr th:only-of-type {\n",
       "        vertical-align: middle;\n",
       "    }\n",
       "\n",
       "    .dataframe tbody tr th {\n",
       "        vertical-align: top;\n",
       "    }\n",
       "\n",
       "    .dataframe thead th {\n",
       "        text-align: right;\n",
       "    }\n",
       "</style>\n",
       "<table border=\"1\" class=\"dataframe\">\n",
       "  <thead>\n",
       "    <tr style=\"text-align: right;\">\n",
       "      <th></th>\n",
       "      <th>VoxCeleb1 ID</th>\n",
       "      <th>VGGFace1 ID</th>\n",
       "      <th>Gender</th>\n",
       "      <th>Nationality</th>\n",
       "      <th>Set</th>\n",
       "    </tr>\n",
       "  </thead>\n",
       "  <tbody>\n",
       "    <tr>\n",
       "      <th>1</th>\n",
       "      <td>id10002</td>\n",
       "      <td>A.R._Rahman</td>\n",
       "      <td>m</td>\n",
       "      <td>India</td>\n",
       "      <td>dev</td>\n",
       "    </tr>\n",
       "    <tr>\n",
       "      <th>2</th>\n",
       "      <td>id10003</td>\n",
       "      <td>Aamir_Khan</td>\n",
       "      <td>m</td>\n",
       "      <td>India</td>\n",
       "      <td>dev</td>\n",
       "    </tr>\n",
       "    <tr>\n",
       "      <th>16</th>\n",
       "      <td>id10017</td>\n",
       "      <td>Ajay_Devgn</td>\n",
       "      <td>m</td>\n",
       "      <td>India</td>\n",
       "      <td>dev</td>\n",
       "    </tr>\n",
       "    <tr>\n",
       "      <th>17</th>\n",
       "      <td>id10018</td>\n",
       "      <td>Akshay_Kumar</td>\n",
       "      <td>m</td>\n",
       "      <td>India</td>\n",
       "      <td>dev</td>\n",
       "    </tr>\n",
       "    <tr>\n",
       "      <th>44</th>\n",
       "      <td>id10045</td>\n",
       "      <td>Amitabh_Bachchan</td>\n",
       "      <td>m</td>\n",
       "      <td>India</td>\n",
       "      <td>dev</td>\n",
       "    </tr>\n",
       "  </tbody>\n",
       "</table>\n",
       "</div>"
      ],
      "text/plain": [
       "   VoxCeleb1 ID       VGGFace1 ID Gender Nationality  Set\n",
       "1       id10002       A.R._Rahman      m       India  dev\n",
       "2       id10003        Aamir_Khan      m       India  dev\n",
       "16      id10017        Ajay_Devgn      m       India  dev\n",
       "17      id10018      Akshay_Kumar      m       India  dev\n",
       "44      id10045  Amitabh_Bachchan      m       India  dev"
      ]
     },
     "execution_count": 3,
     "metadata": {},
     "output_type": "execute_result"
    }
   ],
   "source": [
    "# creating another dataframe with only India nationalities. \n",
    "# I am interested only in India celebrities \n",
    "df_india = df[df[\"Nationality\"]==\"India\"]\n",
    "df_india.head()"
   ]
  },
  {
   "cell_type": "code",
   "execution_count": 4,
   "id": "89fbe725",
   "metadata": {},
   "outputs": [
    {
     "data": {
      "text/plain": [
       "26"
      ]
     },
     "execution_count": 4,
     "metadata": {},
     "output_type": "execute_result"
    }
   ],
   "source": [
    "df_india['VoxCeleb1 ID'].count()"
   ]
  },
  {
   "cell_type": "code",
   "execution_count": 5,
   "id": "d4b1f602",
   "metadata": {},
   "outputs": [],
   "source": [
    "a = df_india['VGGFace1 ID'].unique()\n",
    "b = df_india['VoxCeleb1 ID'].unique()"
   ]
  },
  {
   "cell_type": "code",
   "execution_count": 6,
   "id": "26f258f2",
   "metadata": {},
   "outputs": [
    {
     "name": "stdout",
     "output_type": "stream",
     "text": [
      "A.R._Rahman id10002 Aamir_Khan id10003 Ajay_Devgn id10017 Akshay_Kumar id10018 Amitabh_Bachchan id10045 Emraan_Hashmi id10292 Freida_Pinto id10324 Irrfan_Khan id10393 John_Abraham id10519 Kangana_Ranaut id10583 Kriti_Sanon id10662 Mallika_Sherawat id10724 Naseeruddin_Shah id10852 Om_Puri id10901 Parineeti_Chopra id10912 Pooja_Kumar id10941 Preity_Zinta id10943 Ranbir_Kapoor id10955 Randeep_Hooda id10956 Shahid_Kapoor id11071 Shraddha_Kapoor id11089 Sidharth_Malhotra id11090 Sonam_Kapoor id11100 Suraj_Sharma id11130 Tabu id11136 Vidya_Balan id11209 "
     ]
    }
   ],
   "source": [
    "for i,j in zip(a,b):\n",
    "    print(i,j, end=' ')"
   ]
  },
  {
   "cell_type": "code",
   "execution_count": 7,
   "id": "42589d79",
   "metadata": {},
   "outputs": [],
   "source": [
    "num_speakers = 2 #@param {type:\"integer\"}\n",
    "\n",
    "language = 'English' #@param ['any', 'English']\n",
    "\n",
    "model_size = 'large' #@param ['tiny', 'base', 'small', 'medium', 'large']\n",
    "\n",
    "\n",
    "model_name = model_size\n",
    "if language == 'English' and model_size != 'large':\n",
    "    model_name += '.en'"
   ]
  },
  {
   "cell_type": "code",
   "execution_count": 8,
   "id": "b679fd26",
   "metadata": {},
   "outputs": [
    {
     "name": "stderr",
     "output_type": "stream",
     "text": [
      "/home/ubuntu/environments/transcript/lib/python3.8/site-packages/torch/cuda/__init__.py:497: UserWarning: Can't initialize NVML\n",
      "  warnings.warn(\"Can't initialize NVML\")\n"
     ]
    }
   ],
   "source": [
    "model = whisper.load_model(model_size)"
   ]
  },
  {
   "cell_type": "code",
   "execution_count": 9,
   "id": "d9dcf79e",
   "metadata": {},
   "outputs": [],
   "source": [
    "import os\n",
    "b_dir = '/home/ubuntu/voxceleb/wav'\n",
    "for file in os.listdir(b_dir):\n",
    "    for i in b:\n",
    "        #print(b_dir +'/'+i+'/'+i+'_text')\n",
    "        try:\n",
    "            if not os.path.exists(b_dir +'/'+i+'/'+i+'_text'):\n",
    "                os.mkdir(b_dir +'/'+i+'/'+i+'_text')\n",
    "        except FileNotFoundError:\n",
    "            continue\n",
    "        except FileExistsError:\n",
    "            continue"
   ]
  },
  {
   "cell_type": "code",
   "execution_count": null,
   "id": "bcca6c66",
   "metadata": {},
   "outputs": [
    {
     "name": "stderr",
     "output_type": "stream",
     "text": [
      "\r",
      "  0%|          | 0/25 [00:00<?, ?it/s]"
     ]
    }
   ],
   "source": [
    "from tqdm import tqdm\n",
    "b_dir = '/home/ubuntu/voxceleb/wav'\n",
    "text = []\n",
    "celeb_id = []\n",
    "file_id = []\n",
    "for file in os.listdir(b_dir):\n",
    "    for i in b:\n",
    "        if file == i:\n",
    "            for j in tqdm(os.listdir(b_dir+'/'+i)):\n",
    "                for k in os.listdir(b_dir+'/'+i+'/'+j):\n",
    "                    path = b_dir+'/'+i+'/'+j+'/'+k\n",
    "                    result = model.transcribe(path)\n",
    "                    segments = result[\"segments\"]\n",
    "                    for segment in segments:\n",
    "                        text.append(segment[\"text\"][1:] + '\\n')\n",
    "                        celeb_id.append(i)\n",
    "                        file_id.append((j,k))             \n",
    "        else:\n",
    "            continue"
   ]
  },
  {
   "cell_type": "code",
   "execution_count": null,
   "id": "bf99bc1d",
   "metadata": {},
   "outputs": [],
   "source": [
    "# from tqdm import tqdm\n",
    "# b_dir = '/home/ubuntu/voxceleb/wav'\n",
    "# for file in os.listdir(b_dir):\n",
    "#     for i in b:\n",
    "#         if file == i:\n",
    "#             for j in tqdm(os.listdir(b_dir+'/'+i)):\n",
    "#                 for k in os.listdir(b_dir+'/'+i+'/'+j):\n",
    "#                     path = b_dir+'/'+i+'/'+j+'/'+k\n",
    "#                     result = model.transcribe(path)\n",
    "#                     segments = result[\"segments\"]\n",
    "#                     for segment in segments:\n",
    "#                         #print(i,j,k,segment[\"text\"][1:] + ' ')\n",
    "#                         file_name = f'{i}_segment.txt'\n",
    "#                         #print(b_dir, i, i+'_text', file_name)\n",
    "#                         file_path = os.path.join(b_dir, i, i+'_text', file_name)\n",
    "#                         with open(file_path,'a') as f:\n",
    "#                             f.write(segment[\"text\"][1:] + '\\n')\n",
    "#         else:\n",
    "#             continue"
   ]
  },
  {
   "cell_type": "code",
   "execution_count": null,
   "id": "145d217a",
   "metadata": {},
   "outputs": [],
   "source": [
    "#writing new file with the transcription\n",
    "# b_dir = '/home/ubuntu/voxceleb/wav'\n",
    "# for file in os.listdir(b_dir):\n",
    "#     for i in b:\n",
    "#         if file == i:\n",
    "#             for j in os.listdir(b_dir+'/'+i):\n",
    "#                 for k in os.listdir(b_dir+'/'+i+'/'+j):\n",
    "#                     path = b_dir+'/'+i+'/'+j+'/'+k\n",
    "#                     result = model.transcribe(path)\n",
    "#                     segments = result[\"segments\"]\n",
    "#                     for segment in segments:\n",
    "#                         #print(i,j,k,segment[\"text\"][1:] + ' ')\n",
    "#                         file_name = f'{i}_segment.txt'\n",
    "#                         #print(b_dir, i, i+'_text', file_name)\n",
    "#                         file_path = os.path.join(b_dir, i, i+'_text', file_name)\n",
    "#                         with open(file_path,'a') as f:\n",
    "#                             f.write(segment[\"text\"][1:] + '\\n')\n",
    "# #                         for idx,segment in enumerate(segments):\n",
    "# #                         file_name = f'{i}_segment.txt'\n",
    "# #                         file_path = os.path.join(b_dir, i, i+'_text', file_name)\n",
    "# #                         print(file_path)\n",
    "# #                     #for segment in segments:\n",
    "# #                         #print(segment[\"text\"][1:] + ' ')\n",
    "# #                         #print(b_dir +'/'+i+'/'+i+'_text'+'/'+i+'.txt')\n",
    "# #                     for idx,segment in enumerate(segments):\n",
    "# #                         file_name = f'{i}_segment_{idx}.txt'\n",
    "# #                         file_path = os.path.join(b_dir, i, i+'_text', file_name)\n",
    "# #                         print(file_path)\n",
    "# #                         with open(file_path,'a') as f:#for segment in segments:\n",
    "# #                             f.write(segment[\"text\"][1:] + '\\n')\n",
    "#         else:\n",
    "#             continue"
   ]
  },
  {
   "cell_type": "code",
   "execution_count": null,
   "id": "8b46d441",
   "metadata": {},
   "outputs": [],
   "source": []
  },
  {
   "cell_type": "code",
   "execution_count": null,
   "id": "8b54bbb0",
   "metadata": {},
   "outputs": [],
   "source": []
  },
  {
   "cell_type": "code",
   "execution_count": null,
   "id": "963f5180",
   "metadata": {},
   "outputs": [],
   "source": []
  },
  {
   "cell_type": "code",
   "execution_count": null,
   "id": "a8578c45",
   "metadata": {},
   "outputs": [],
   "source": []
  },
  {
   "cell_type": "code",
   "execution_count": null,
   "id": "52fe29ba",
   "metadata": {},
   "outputs": [],
   "source": []
  },
  {
   "cell_type": "code",
   "execution_count": null,
   "id": "84d390a4",
   "metadata": {},
   "outputs": [],
   "source": []
  },
  {
   "cell_type": "code",
   "execution_count": null,
   "id": "b14113ca",
   "metadata": {},
   "outputs": [],
   "source": []
  },
  {
   "cell_type": "code",
   "execution_count": null,
   "id": "b5ababd1",
   "metadata": {},
   "outputs": [],
   "source": []
  },
  {
   "cell_type": "code",
   "execution_count": null,
   "id": "ff28c493",
   "metadata": {},
   "outputs": [],
   "source": []
  },
  {
   "cell_type": "code",
   "execution_count": null,
   "id": "3f9e7e60",
   "metadata": {},
   "outputs": [],
   "source": [
    "# num_speakers = 2 #@param {type:\"integer\"}\n",
    "\n",
    "# language = 'English' #@param ['any', 'English']\n",
    "\n",
    "# model_size = 'large' #@param ['tiny', 'base', 'small', 'medium', 'large']\n",
    "\n",
    "\n",
    "# model_name = model_size\n",
    "# if language == 'English' and model_size != 'large':\n",
    "#     model_name += '.en'"
   ]
  },
  {
   "cell_type": "code",
   "execution_count": null,
   "id": "9839a2b3",
   "metadata": {},
   "outputs": [],
   "source": [
    "# import whisper\n",
    "# import datetime\n",
    "# import subprocess\n",
    "# import torch\n",
    "# import wave\n",
    "# import numpy as np"
   ]
  },
  {
   "cell_type": "code",
   "execution_count": null,
   "id": "66226d02",
   "metadata": {},
   "outputs": [],
   "source": [
    "# model = whisper.load_model(model_size)"
   ]
  },
  {
   "cell_type": "code",
   "execution_count": null,
   "id": "09030ce8",
   "metadata": {},
   "outputs": [],
   "source": [
    "# %pwd"
   ]
  },
  {
   "cell_type": "code",
   "execution_count": null,
   "id": "88e9bca3",
   "metadata": {},
   "outputs": [],
   "source": [
    "# %cd ./voxceleb"
   ]
  },
  {
   "cell_type": "code",
   "execution_count": null,
   "id": "5665a9ee",
   "metadata": {},
   "outputs": [],
   "source": [
    "# %cd /voxceleb"
   ]
  },
  {
   "cell_type": "code",
   "execution_count": null,
   "id": "a703553e",
   "metadata": {},
   "outputs": [],
   "source": [
    "# import os\n",
    "# dir = 'wav'\n",
    "# dir_lst = []\n",
    "# for file in os.listdir(dir):\n",
    "#     for j in os.listdir(dir+'/'+file):\n",
    "#         for k in os.listdir(dir+'/'+file+'/'+j):\n",
    "#             dir_lst.append(dir+'/'+file+'/'+j+'/'+k)"
   ]
  },
  {
   "cell_type": "code",
   "execution_count": null,
   "id": "5188870e",
   "metadata": {},
   "outputs": [],
   "source": [
    "# len(dir_lst)"
   ]
  },
  {
   "cell_type": "code",
   "execution_count": null,
   "id": "415c51d4",
   "metadata": {},
   "outputs": [],
   "source": [
    "# path = dir_lst[0]"
   ]
  },
  {
   "cell_type": "code",
   "execution_count": null,
   "id": "0f0d0ddb",
   "metadata": {},
   "outputs": [],
   "source": [
    "# result = model.transcribe(path)\n",
    "# segments = result[\"segments\"]\n",
    "# for segment in segments:\n",
    "#     print(segment[\"text\"][1:] + ' ')"
   ]
  },
  {
   "cell_type": "code",
   "execution_count": null,
   "id": "588e7f89",
   "metadata": {},
   "outputs": [],
   "source": [
    "# import IPython\n",
    "# IPython.display.Audio(path)"
   ]
  },
  {
   "cell_type": "code",
   "execution_count": null,
   "id": "3f509b49",
   "metadata": {},
   "outputs": [],
   "source": []
  },
  {
   "cell_type": "code",
   "execution_count": null,
   "id": "654aa7aa",
   "metadata": {},
   "outputs": [],
   "source": []
  },
  {
   "cell_type": "code",
   "execution_count": null,
   "id": "3e5e8277",
   "metadata": {},
   "outputs": [],
   "source": []
  },
  {
   "cell_type": "code",
   "execution_count": null,
   "id": "04f4c2a9",
   "metadata": {},
   "outputs": [],
   "source": []
  },
  {
   "cell_type": "code",
   "execution_count": null,
   "id": "67b883de",
   "metadata": {},
   "outputs": [],
   "source": [
    "path = 'wav/id10001/1zcIwhmdeo4/00001.wav'"
   ]
  },
  {
   "cell_type": "code",
   "execution_count": null,
   "id": "2d3c72b7",
   "metadata": {},
   "outputs": [],
   "source": [
    "result = model.transcribe(path)\n",
    "segments = result[\"segments\"]\n",
    "print(result)"
   ]
  },
  {
   "cell_type": "code",
   "execution_count": null,
   "id": "ec626892",
   "metadata": {},
   "outputs": [],
   "source": [
    "import IPython\n",
    "IPython.display.Audio(path)"
   ]
  },
  {
   "cell_type": "code",
   "execution_count": null,
   "id": "130a5ab3",
   "metadata": {},
   "outputs": [],
   "source": [
    "for segment in segments:\n",
    "    print(segment[\"text\"][1:] + ' ')"
   ]
  }
 ],
 "metadata": {
  "kernelspec": {
   "display_name": "transcribe",
   "language": "python",
   "name": "transcribe"
  },
  "language_info": {
   "codemirror_mode": {
    "name": "ipython",
    "version": 3
   },
   "file_extension": ".py",
   "mimetype": "text/x-python",
   "name": "python",
   "nbconvert_exporter": "python",
   "pygments_lexer": "ipython3",
   "version": "3.8.0"
  }
 },
 "nbformat": 4,
 "nbformat_minor": 5
}
